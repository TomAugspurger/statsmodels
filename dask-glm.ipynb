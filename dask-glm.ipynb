{
 "cells": [
  {
   "cell_type": "code",
   "execution_count": 5,
   "metadata": {},
   "outputs": [
    {
     "name": "stderr",
     "output_type": "stream",
     "text": [
      "/Users/tom.augspurger/Envs/py3/lib/python3.6/site-packages/statsmodels/statsmodels/base/model.py:509: ConvergenceWarning: Maximum Likelihood optimization failed to converge. Check mle_retvals\n",
      "  \"Check mle_retvals\", ConvergenceWarning)\n"
     ]
    },
    {
     "data": {
      "text/plain": [
       "array([ 0.11351132, -0.0064103 ,  0.05055113,  0.17582365,  0.16448483,\n",
       "        0.12441961, -0.02800043, -0.10632769, -0.08254563,  0.71340299])"
      ]
     },
     "execution_count": 5,
     "metadata": {},
     "output_type": "execute_result"
    }
   ],
   "source": [
    "import dask.array as da\n",
    "import numpy as np\n",
    "from dask_glm.algorithms import newton, admm, gradient_descent # the only three we should advertise right now\n",
    "from dask_glm.utils import sigmoid\n",
    "\n",
    "## for comparisons\n",
    "from statsmodels.discrete.discrete_model import Logit\n",
    "from statsmodels.genmod.generalized_linear_model import GLM\n",
    "\n",
    "from statsmodels.base.data import  handle_data\n",
    "\n",
    "X = np.random.normal(size=(1000, 25))\n",
    "beta = np.random.normal(size=25)\n",
    "beta *= np.random.randint(0, 2, size=25)\n",
    "y = X.dot(beta) + np.random.normal(size=1000)\n",
    "m = 5\n",
    "\n",
    "def make_data(N, p, scale=1.0, corr=0.25):\n",
    "    N = int(N)\n",
    "    beta = (np.random.random(p-1) - 0.5) * 2\n",
    "    beta = np.append(beta, scale)\n",
    "    \n",
    "    X = np.ones((N, p))\n",
    "    X[:,:2] = np.random.multivariate_normal([0,0], [[1, corr], [corr, 1]], size=N)\n",
    "    X[:, 2:-1] = (np.random.random((N, p-3)) - 0.5) * 2\n",
    "    \n",
    "    Xbeta = X.dot(beta)\n",
    "    \n",
    "    y = np.random.random(Xbeta.shape) < sigmoid(Xbeta)\n",
    "    return X, y, beta\n",
    "\n",
    "X, y, true_beta = make_data(1e4, 10, scale=1.25, corr=0.25)\n",
    "X = da.from_array(X, chunks=(1e3, 10))\n",
    "y = da.from_array(y, chunks=(1e3,))\n",
    "\n",
    "# Use statsmodels on subset\n",
    "X_, y_ = X[:1000].compute(), y[:1000].compute()\n",
    "\n",
    "mod = GLM(y_, X_)\n",
    "res = mod.fit(method='nm')\n",
    "res.params"
   ]
  },
  {
   "cell_type": "code",
   "execution_count": 8,
   "metadata": {},
   "outputs": [
    {
     "data": {
      "text/html": [
       "<table class=\"simpletable\">\n",
       "<caption>Generalized Linear Model Regression Results</caption>\n",
       "<tr>\n",
       "  <th>Dep. Variable:</th>          <td>y</td>        <th>  No. Observations:  </th>     <td>  1000</td>    \n",
       "</tr>\n",
       "<tr>\n",
       "  <th>Model:</th>                 <td>GLM</td>       <th>  Df Residuals:      </th>     <td>   990</td>    \n",
       "</tr>\n",
       "<tr>\n",
       "  <th>Model Family:</th>       <td>Gaussian</td>     <th>  Df Model:          </th>     <td>     9</td>    \n",
       "</tr>\n",
       "<tr>\n",
       "  <th>Link Function:</th>      <td>identity</td>     <th>  Scale:             </th> <td>0.162687326622</td>\n",
       "</tr>\n",
       "<tr>\n",
       "  <th>Method:</th>                <td>nm</td>        <th>  Log-Likelihood:    </th>    <td> -505.95</td>   \n",
       "</tr>\n",
       "<tr>\n",
       "  <th>Date:</th>           <td>Mon, 13 Mar 2017</td> <th>  Deviance:          </th>    <td>  161.06</td>   \n",
       "</tr>\n",
       "<tr>\n",
       "  <th>Time:</th>               <td>07:24:52</td>     <th>  Pearson chi2:      </th>     <td>  161.</td>    \n",
       "</tr>\n",
       "<tr>\n",
       "  <th>No. Iterations:</th>        <td>100</td>       <th>                     </th>        <td> </td>      \n",
       "</tr>\n",
       "</table>\n",
       "<table class=\"simpletable\">\n",
       "<tr>\n",
       "    <td></td>       <th>coef</th>     <th>std err</th>      <th>z</th>      <th>P>|z|</th>  <th>[0.025</th>    <th>0.975]</th>  \n",
       "</tr>\n",
       "<tr>\n",
       "  <th>x1</th>    <td>    0.1135</td> <td>    0.013</td> <td>    8.700</td> <td> 0.000</td> <td>    0.088</td> <td>    0.139</td>\n",
       "</tr>\n",
       "<tr>\n",
       "  <th>x2</th>    <td>   -0.0064</td> <td>    0.013</td> <td>   -0.488</td> <td> 0.626</td> <td>   -0.032</td> <td>    0.019</td>\n",
       "</tr>\n",
       "<tr>\n",
       "  <th>x3</th>    <td>    0.0506</td> <td>    0.022</td> <td>    2.331</td> <td> 0.020</td> <td>    0.008</td> <td>    0.093</td>\n",
       "</tr>\n",
       "<tr>\n",
       "  <th>x4</th>    <td>    0.1758</td> <td>    0.023</td> <td>    7.705</td> <td> 0.000</td> <td>    0.131</td> <td>    0.221</td>\n",
       "</tr>\n",
       "<tr>\n",
       "  <th>x5</th>    <td>    0.1645</td> <td>    0.022</td> <td>    7.496</td> <td> 0.000</td> <td>    0.121</td> <td>    0.207</td>\n",
       "</tr>\n",
       "<tr>\n",
       "  <th>x6</th>    <td>    0.1244</td> <td>    0.022</td> <td>    5.581</td> <td> 0.000</td> <td>    0.081</td> <td>    0.168</td>\n",
       "</tr>\n",
       "<tr>\n",
       "  <th>x7</th>    <td>   -0.0280</td> <td>    0.023</td> <td>   -1.239</td> <td> 0.215</td> <td>   -0.072</td> <td>    0.016</td>\n",
       "</tr>\n",
       "<tr>\n",
       "  <th>x8</th>    <td>   -0.1063</td> <td>    0.022</td> <td>   -4.922</td> <td> 0.000</td> <td>   -0.149</td> <td>   -0.064</td>\n",
       "</tr>\n",
       "<tr>\n",
       "  <th>x9</th>    <td>   -0.0825</td> <td>    0.022</td> <td>   -3.800</td> <td> 0.000</td> <td>   -0.125</td> <td>   -0.040</td>\n",
       "</tr>\n",
       "<tr>\n",
       "  <th>const</th> <td>    0.7134</td> <td>    0.013</td> <td>   55.761</td> <td> 0.000</td> <td>    0.688</td> <td>    0.738</td>\n",
       "</tr>\n",
       "</table>"
      ],
      "text/plain": [
       "<class 'statsmodels.iolib.summary.Summary'>\n",
       "\"\"\"\n",
       "                 Generalized Linear Model Regression Results                  \n",
       "==============================================================================\n",
       "Dep. Variable:                      y   No. Observations:                 1000\n",
       "Model:                            GLM   Df Residuals:                      990\n",
       "Model Family:                Gaussian   Df Model:                            9\n",
       "Link Function:               identity   Scale:                  0.162687326622\n",
       "Method:                            nm   Log-Likelihood:                -505.95\n",
       "Date:                Mon, 13 Mar 2017   Deviance:                       161.06\n",
       "Time:                        07:24:52   Pearson chi2:                     161.\n",
       "No. Iterations:                   100                                         \n",
       "==============================================================================\n",
       "                 coef    std err          z      P>|z|      [0.025      0.975]\n",
       "------------------------------------------------------------------------------\n",
       "x1             0.1135      0.013      8.700      0.000       0.088       0.139\n",
       "x2            -0.0064      0.013     -0.488      0.626      -0.032       0.019\n",
       "x3             0.0506      0.022      2.331      0.020       0.008       0.093\n",
       "x4             0.1758      0.023      7.705      0.000       0.131       0.221\n",
       "x5             0.1645      0.022      7.496      0.000       0.121       0.207\n",
       "x6             0.1244      0.022      5.581      0.000       0.081       0.168\n",
       "x7            -0.0280      0.023     -1.239      0.215      -0.072       0.016\n",
       "x8            -0.1063      0.022     -4.922      0.000      -0.149      -0.064\n",
       "x9            -0.0825      0.022     -3.800      0.000      -0.125      -0.040\n",
       "const          0.7134      0.013     55.761      0.000       0.688       0.738\n",
       "==============================================================================\n",
       "\"\"\""
      ]
     },
     "execution_count": 8,
     "metadata": {},
     "output_type": "execute_result"
    }
   ],
   "source": [
    "res.summary()"
   ]
  },
  {
   "cell_type": "code",
   "execution_count": 19,
   "metadata": {
    "collapsed": true
   },
   "outputs": [],
   "source": [
    "from statsmodels.genmod.generalized_linear_model import DaskGLM"
   ]
  },
  {
   "cell_type": "code",
   "execution_count": 23,
   "metadata": {},
   "outputs": [
    {
     "name": "stdout",
     "output_type": "stream",
     "text": [
      "Converged! 29\n"
     ]
    },
    {
     "data": {
      "text/plain": [
       "array([ 0.77925663,  0.0133706 ,  0.39271345,  0.92552116,  0.77705228,\n",
       "        0.96426037, -0.48653848, -0.55960016, -0.18188098,  1.23497578])"
      ]
     },
     "execution_count": 23,
     "metadata": {},
     "output_type": "execute_result"
    }
   ],
   "source": [
    "dglm = DaskGLM(y, X)\n",
    "dres = dglm.fit()\n",
    "dres.params"
   ]
  },
  {
   "cell_type": "code",
   "execution_count": null,
   "metadata": {
    "collapsed": true
   },
   "outputs": [],
   "source": []
  }
 ],
 "metadata": {
  "kernelspec": {
   "display_name": "Python 3 (venv)",
   "language": "python",
   "name": "py3-venv"
  },
  "language_info": {
   "codemirror_mode": {
    "name": "ipython",
    "version": 3
   },
   "file_extension": ".py",
   "mimetype": "text/x-python",
   "name": "python",
   "nbconvert_exporter": "python",
   "pygments_lexer": "ipython3",
   "version": "3.6.0"
  }
 },
 "nbformat": 4,
 "nbformat_minor": 2
}
